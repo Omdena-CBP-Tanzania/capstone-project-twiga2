{
 "cells": [
  {
   "cell_type": "markdown",
   "id": "205a8c36-95f9-4893-9ceb-f4e5aad4815f",
   "metadata": {},
   "source": [
    "## Objective:\n",
    "- Analyzing historical climate data to understand trends and predict future climate patterns in Tanzania"
   ]
  },
  {
   "cell_type": "code",
   "execution_count": 4,
   "id": "b930d005-24fd-48a3-9c0c-516b6616073d",
   "metadata": {},
   "outputs": [],
   "source": [
    "#import libraries\n",
    "\n",
    "import pandas as pd\n",
    "import numpy as np\n",
    "import matplotlib.pyplot as plt\n",
    "import seaborn as sns\n"
   ]
  },
  {
   "cell_type": "markdown",
   "id": "ae3c0422-bfd3-48ec-943b-948bf3c05c36",
   "metadata": {},
   "source": [
    "### 2. Data Preprocessing:\n",
    "Tasks:\n",
    "\n",
    "- Handle missing values (if any).\n",
    "\n",
    "- Convert data types as necessary (e.g., datetime conversion).\n",
    "\n",
    "- Feature engineering: Extract relevant features such as seasonal trends, average temperatures, precipitation levels.\n",
    "\n",
    "- Encoding categorical variables (if applicable).\n",
    "\n",
    "- Output: Cleaned dataset ready for exploratory data analysis (EDA) and modeling."
   ]
  },
  {
   "cell_type": "code",
   "execution_count": 5,
   "id": "6691235b-ce6b-4de9-8c3d-6b4fba1ad1e9",
   "metadata": {},
   "outputs": [
    {
     "data": {
      "text/html": [
       "<div>\n",
       "<style scoped>\n",
       "    .dataframe tbody tr th:only-of-type {\n",
       "        vertical-align: middle;\n",
       "    }\n",
       "\n",
       "    .dataframe tbody tr th {\n",
       "        vertical-align: top;\n",
       "    }\n",
       "\n",
       "    .dataframe thead th {\n",
       "        text-align: right;\n",
       "    }\n",
       "</style>\n",
       "<table border=\"1\" class=\"dataframe\">\n",
       "  <thead>\n",
       "    <tr style=\"text-align: right;\">\n",
       "      <th></th>\n",
       "      <th>Year</th>\n",
       "      <th>Month</th>\n",
       "      <th>Average_Temperature_C</th>\n",
       "      <th>Total_Rainfall_mm</th>\n",
       "      <th>Max_Temperature_C</th>\n",
       "      <th>Min_Temperature_C</th>\n",
       "    </tr>\n",
       "  </thead>\n",
       "  <tbody>\n",
       "    <tr>\n",
       "      <th>0</th>\n",
       "      <td>2000</td>\n",
       "      <td>1</td>\n",
       "      <td>26.1</td>\n",
       "      <td>19.8</td>\n",
       "      <td>32.0</td>\n",
       "      <td>21.9</td>\n",
       "    </tr>\n",
       "    <tr>\n",
       "      <th>1</th>\n",
       "      <td>2000</td>\n",
       "      <td>2</td>\n",
       "      <td>25.8</td>\n",
       "      <td>87.3</td>\n",
       "      <td>29.5</td>\n",
       "      <td>22.7</td>\n",
       "    </tr>\n",
       "    <tr>\n",
       "      <th>2</th>\n",
       "      <td>2000</td>\n",
       "      <td>3</td>\n",
       "      <td>26.8</td>\n",
       "      <td>266.5</td>\n",
       "      <td>29.9</td>\n",
       "      <td>21.8</td>\n",
       "    </tr>\n",
       "    <tr>\n",
       "      <th>3</th>\n",
       "      <td>2000</td>\n",
       "      <td>4</td>\n",
       "      <td>26.3</td>\n",
       "      <td>136.7</td>\n",
       "      <td>30.1</td>\n",
       "      <td>22.9</td>\n",
       "    </tr>\n",
       "    <tr>\n",
       "      <th>4</th>\n",
       "      <td>2000</td>\n",
       "      <td>5</td>\n",
       "      <td>26.0</td>\n",
       "      <td>63.1</td>\n",
       "      <td>30.7</td>\n",
       "      <td>22.4</td>\n",
       "    </tr>\n",
       "  </tbody>\n",
       "</table>\n",
       "</div>"
      ],
      "text/plain": [
       "   Year  Month  Average_Temperature_C  Total_Rainfall_mm  Max_Temperature_C  \\\n",
       "0  2000      1                   26.1               19.8               32.0   \n",
       "1  2000      2                   25.8               87.3               29.5   \n",
       "2  2000      3                   26.8              266.5               29.9   \n",
       "3  2000      4                   26.3              136.7               30.1   \n",
       "4  2000      5                   26.0               63.1               30.7   \n",
       "\n",
       "   Min_Temperature_C  \n",
       "0               21.9  \n",
       "1               22.7  \n",
       "2               21.8  \n",
       "3               22.9  \n",
       "4               22.4  "
      ]
     },
     "execution_count": 5,
     "metadata": {},
     "output_type": "execute_result"
    }
   ],
   "source": [
    "climatedf = pd.read_csv(\"data/tanzania_climate_data.csv\")\n",
    "climatedf.head()"
   ]
  },
  {
   "cell_type": "code",
   "execution_count": 6,
   "id": "46822b21-ff10-4646-877e-743f5b91749a",
   "metadata": {},
   "outputs": [
    {
     "data": {
      "text/plain": [
       "(252, 6)"
      ]
     },
     "execution_count": 6,
     "metadata": {},
     "output_type": "execute_result"
    }
   ],
   "source": [
    "climatedf.shape"
   ]
  },
  {
   "cell_type": "code",
   "execution_count": 7,
   "id": "9fa89ba3-d562-4def-9297-6d87a5152998",
   "metadata": {},
   "outputs": [
    {
     "name": "stdout",
     "output_type": "stream",
     "text": [
      "<class 'pandas.core.frame.DataFrame'>\n",
      "RangeIndex: 252 entries, 0 to 251\n",
      "Data columns (total 6 columns):\n",
      " #   Column                 Non-Null Count  Dtype  \n",
      "---  ------                 --------------  -----  \n",
      " 0   Year                   252 non-null    int64  \n",
      " 1   Month                  252 non-null    int64  \n",
      " 2   Average_Temperature_C  252 non-null    float64\n",
      " 3   Total_Rainfall_mm      252 non-null    float64\n",
      " 4   Max_Temperature_C      252 non-null    float64\n",
      " 5   Min_Temperature_C      252 non-null    float64\n",
      "dtypes: float64(4), int64(2)\n",
      "memory usage: 11.9 KB\n"
     ]
    }
   ],
   "source": [
    "climatedf.info()   #no missing values"
   ]
  },
  {
   "cell_type": "code",
   "execution_count": 8,
   "id": "dc0b9993-47c7-4674-ba5e-5bfac0155b2d",
   "metadata": {},
   "outputs": [
    {
     "data": {
      "text/plain": [
       "Year                     0\n",
       "Month                    0\n",
       "Average_Temperature_C    0\n",
       "Total_Rainfall_mm        0\n",
       "Max_Temperature_C        0\n",
       "Min_Temperature_C        0\n",
       "dtype: int64"
      ]
     },
     "execution_count": 8,
     "metadata": {},
     "output_type": "execute_result"
    }
   ],
   "source": [
    "climatedf.isnull().sum() #no missing values"
   ]
  },
  {
   "cell_type": "code",
   "execution_count": 9,
   "id": "4dfea187-4c16-480c-a6c7-9185069459b2",
   "metadata": {},
   "outputs": [],
   "source": [
    "climatedf['date']= pd.to_datetime(climatedf[['Year', 'Month']].assign(day=1))"
   ]
  },
  {
   "cell_type": "code",
   "execution_count": 10,
   "id": "258d9ad2-9d3e-4efb-a836-e78f50d47c41",
   "metadata": {},
   "outputs": [
    {
     "data": {
      "text/html": [
       "<div>\n",
       "<style scoped>\n",
       "    .dataframe tbody tr th:only-of-type {\n",
       "        vertical-align: middle;\n",
       "    }\n",
       "\n",
       "    .dataframe tbody tr th {\n",
       "        vertical-align: top;\n",
       "    }\n",
       "\n",
       "    .dataframe thead th {\n",
       "        text-align: right;\n",
       "    }\n",
       "</style>\n",
       "<table border=\"1\" class=\"dataframe\">\n",
       "  <thead>\n",
       "    <tr style=\"text-align: right;\">\n",
       "      <th></th>\n",
       "      <th>Year</th>\n",
       "      <th>Month</th>\n",
       "      <th>Average_Temperature_C</th>\n",
       "      <th>Total_Rainfall_mm</th>\n",
       "      <th>Max_Temperature_C</th>\n",
       "      <th>Min_Temperature_C</th>\n",
       "      <th>date</th>\n",
       "    </tr>\n",
       "  </thead>\n",
       "  <tbody>\n",
       "    <tr>\n",
       "      <th>0</th>\n",
       "      <td>2000</td>\n",
       "      <td>1</td>\n",
       "      <td>26.1</td>\n",
       "      <td>19.8</td>\n",
       "      <td>32.0</td>\n",
       "      <td>21.9</td>\n",
       "      <td>2000-01-01</td>\n",
       "    </tr>\n",
       "    <tr>\n",
       "      <th>1</th>\n",
       "      <td>2000</td>\n",
       "      <td>2</td>\n",
       "      <td>25.8</td>\n",
       "      <td>87.3</td>\n",
       "      <td>29.5</td>\n",
       "      <td>22.7</td>\n",
       "      <td>2000-02-01</td>\n",
       "    </tr>\n",
       "    <tr>\n",
       "      <th>2</th>\n",
       "      <td>2000</td>\n",
       "      <td>3</td>\n",
       "      <td>26.8</td>\n",
       "      <td>266.5</td>\n",
       "      <td>29.9</td>\n",
       "      <td>21.8</td>\n",
       "      <td>2000-03-01</td>\n",
       "    </tr>\n",
       "    <tr>\n",
       "      <th>3</th>\n",
       "      <td>2000</td>\n",
       "      <td>4</td>\n",
       "      <td>26.3</td>\n",
       "      <td>136.7</td>\n",
       "      <td>30.1</td>\n",
       "      <td>22.9</td>\n",
       "      <td>2000-04-01</td>\n",
       "    </tr>\n",
       "    <tr>\n",
       "      <th>4</th>\n",
       "      <td>2000</td>\n",
       "      <td>5</td>\n",
       "      <td>26.0</td>\n",
       "      <td>63.1</td>\n",
       "      <td>30.7</td>\n",
       "      <td>22.4</td>\n",
       "      <td>2000-05-01</td>\n",
       "    </tr>\n",
       "  </tbody>\n",
       "</table>\n",
       "</div>"
      ],
      "text/plain": [
       "   Year  Month  Average_Temperature_C  Total_Rainfall_mm  Max_Temperature_C  \\\n",
       "0  2000      1                   26.1               19.8               32.0   \n",
       "1  2000      2                   25.8               87.3               29.5   \n",
       "2  2000      3                   26.8              266.5               29.9   \n",
       "3  2000      4                   26.3              136.7               30.1   \n",
       "4  2000      5                   26.0               63.1               30.7   \n",
       "\n",
       "   Min_Temperature_C       date  \n",
       "0               21.9 2000-01-01  \n",
       "1               22.7 2000-02-01  \n",
       "2               21.8 2000-03-01  \n",
       "3               22.9 2000-04-01  \n",
       "4               22.4 2000-05-01  "
      ]
     },
     "execution_count": 10,
     "metadata": {},
     "output_type": "execute_result"
    }
   ],
   "source": [
    "climatedf.head()"
   ]
  },
  {
   "cell_type": "code",
   "execution_count": 11,
   "id": "e2637f9d-a93d-4b9a-9c60-9ed83742d05d",
   "metadata": {},
   "outputs": [
    {
     "name": "stdout",
     "output_type": "stream",
     "text": [
      "<class 'pandas.core.frame.DataFrame'>\n",
      "RangeIndex: 252 entries, 0 to 251\n",
      "Data columns (total 7 columns):\n",
      " #   Column                 Non-Null Count  Dtype         \n",
      "---  ------                 --------------  -----         \n",
      " 0   Year                   252 non-null    int64         \n",
      " 1   Month                  252 non-null    int64         \n",
      " 2   Average_Temperature_C  252 non-null    float64       \n",
      " 3   Total_Rainfall_mm      252 non-null    float64       \n",
      " 4   Max_Temperature_C      252 non-null    float64       \n",
      " 5   Min_Temperature_C      252 non-null    float64       \n",
      " 6   date                   252 non-null    datetime64[ns]\n",
      "dtypes: datetime64[ns](1), float64(4), int64(2)\n",
      "memory usage: 13.9 KB\n"
     ]
    }
   ],
   "source": [
    "climatedf.info()"
   ]
  },
  {
   "cell_type": "code",
   "execution_count": 16,
   "id": "d6d37b7a-5698-4641-ae62-8f6df3781867",
   "metadata": {},
   "outputs": [],
   "source": [
    "climatedf.drop(['Year','Month'], axis=1, inplace=True)"
   ]
  },
  {
   "cell_type": "code",
   "execution_count": 17,
   "id": "97a10000-daad-4a3a-aa29-8259562b6ea2",
   "metadata": {},
   "outputs": [
    {
     "data": {
      "text/html": [
       "<div>\n",
       "<style scoped>\n",
       "    .dataframe tbody tr th:only-of-type {\n",
       "        vertical-align: middle;\n",
       "    }\n",
       "\n",
       "    .dataframe tbody tr th {\n",
       "        vertical-align: top;\n",
       "    }\n",
       "\n",
       "    .dataframe thead th {\n",
       "        text-align: right;\n",
       "    }\n",
       "</style>\n",
       "<table border=\"1\" class=\"dataframe\">\n",
       "  <thead>\n",
       "    <tr style=\"text-align: right;\">\n",
       "      <th></th>\n",
       "      <th>Average_Temperature_C</th>\n",
       "      <th>Total_Rainfall_mm</th>\n",
       "      <th>Max_Temperature_C</th>\n",
       "      <th>Min_Temperature_C</th>\n",
       "      <th>date</th>\n",
       "    </tr>\n",
       "  </thead>\n",
       "  <tbody>\n",
       "    <tr>\n",
       "      <th>0</th>\n",
       "      <td>26.1</td>\n",
       "      <td>19.8</td>\n",
       "      <td>32.0</td>\n",
       "      <td>21.9</td>\n",
       "      <td>2000-01-01</td>\n",
       "    </tr>\n",
       "    <tr>\n",
       "      <th>1</th>\n",
       "      <td>25.8</td>\n",
       "      <td>87.3</td>\n",
       "      <td>29.5</td>\n",
       "      <td>22.7</td>\n",
       "      <td>2000-02-01</td>\n",
       "    </tr>\n",
       "    <tr>\n",
       "      <th>2</th>\n",
       "      <td>26.8</td>\n",
       "      <td>266.5</td>\n",
       "      <td>29.9</td>\n",
       "      <td>21.8</td>\n",
       "      <td>2000-03-01</td>\n",
       "    </tr>\n",
       "    <tr>\n",
       "      <th>3</th>\n",
       "      <td>26.3</td>\n",
       "      <td>136.7</td>\n",
       "      <td>30.1</td>\n",
       "      <td>22.9</td>\n",
       "      <td>2000-04-01</td>\n",
       "    </tr>\n",
       "    <tr>\n",
       "      <th>4</th>\n",
       "      <td>26.0</td>\n",
       "      <td>63.1</td>\n",
       "      <td>30.7</td>\n",
       "      <td>22.4</td>\n",
       "      <td>2000-05-01</td>\n",
       "    </tr>\n",
       "  </tbody>\n",
       "</table>\n",
       "</div>"
      ],
      "text/plain": [
       "   Average_Temperature_C  Total_Rainfall_mm  Max_Temperature_C  \\\n",
       "0                   26.1               19.8               32.0   \n",
       "1                   25.8               87.3               29.5   \n",
       "2                   26.8              266.5               29.9   \n",
       "3                   26.3              136.7               30.1   \n",
       "4                   26.0               63.1               30.7   \n",
       "\n",
       "   Min_Temperature_C       date  \n",
       "0               21.9 2000-01-01  \n",
       "1               22.7 2000-02-01  \n",
       "2               21.8 2000-03-01  \n",
       "3               22.9 2000-04-01  \n",
       "4               22.4 2000-05-01  "
      ]
     },
     "execution_count": 17,
     "metadata": {},
     "output_type": "execute_result"
    }
   ],
   "source": [
    "climatedf.head()"
   ]
  },
  {
   "cell_type": "code",
   "execution_count": 19,
   "id": "4ebc9e97-e499-486b-b427-a39333f00c9f",
   "metadata": {},
   "outputs": [],
   "source": [
    "climatedf.to_csv(\"data/cleanData.csv\",index=False)"
   ]
  },
  {
   "cell_type": "code",
   "execution_count": null,
   "id": "ff5ccee7-5adb-4281-97c6-254e8d24d70a",
   "metadata": {},
   "outputs": [],
   "source": []
  }
 ],
 "metadata": {
  "kernelspec": {
   "display_name": "Python 3 (ipykernel)",
   "language": "python",
   "name": "python3"
  },
  "language_info": {
   "codemirror_mode": {
    "name": "ipython",
    "version": 3
   },
   "file_extension": ".py",
   "mimetype": "text/x-python",
   "name": "python",
   "nbconvert_exporter": "python",
   "pygments_lexer": "ipython3",
   "version": "3.13.0"
  }
 },
 "nbformat": 4,
 "nbformat_minor": 5
}
